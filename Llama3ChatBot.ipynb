{
 "cells": [
  {
   "cell_type": "code",
   "execution_count": null,
   "metadata": {},
   "outputs": [],
   "source": [
    "import transformers\n",
    "import torch\n",
    "import pandas as pd\n",
    "from transformers import pipeline\n",
    "import telebot"
   ]
  },
  {
   "cell_type": "code",
   "execution_count": null,
   "metadata": {},
   "outputs": [],
   "source": [
    "from huggingface_hub import login\n",
    "\n",
    "login(\"\")"
   ]
  },
  {
   "cell_type": "code",
   "execution_count": null,
   "metadata": {},
   "outputs": [],
   "source": [
    "# Initialize the Telegram bot\n",
    "TELEGRAM_BOT_TOKEN = ''\n",
    "bot = telebot.TeleBot(TELEGRAM_BOT_TOKEN)\n",
    "\n",
    "model_id = \"meta-llama/Meta-Llama-3-8B-Instruct\"\n",
    "text_generator = pipeline(\n",
    "    \"text-generation\",\n",
    "    model=model_id,\n",
    "    model_kwargs={\"torch_dtype\": torch.bfloat16},\n",
    "    device_map=\"auto\",\n",
    ")\n",
    "\n",
    "# Load the CSV file\n",
    "file_path = 'Tauranga Container Terminal Cargo Schedule.csv'\n",
    "data = pd.read_csv(file_path)\n",
    "data['Vessel_Voyage'] = data['Vessel'] + ' ' + data['Outbound Voyage #'].astype(str)\n",
    "relevant_data = data[['Vessel_Voyage', 'Current ETA', 'Tauranga Cut-Off']]\n",
    "\n",
    "def get_eta(vessel_voyage):\n",
    "    vessel_info = relevant_data[relevant_data['Vessel_Voyage'].str.contains(vessel_voyage, case=False, na=False)]\n",
    "    if not vessel_info.empty:\n",
    "        return vessel_info[['Vessel_Voyage', 'Current ETA', 'Tauranga Cut-Off']].to_string(index=False)\n",
    "    else:\n",
    "        return \"Arrr, no such vessel be found!\"\n",
    "\n",
    "@bot.message_handler(commands=['start'])\n",
    "def send_welcome(message):\n",
    "    bot.reply_to(message, \"Welcome! How can I assist you today? Use /eta <vessel_voyage> to get the ETA for a vessel.\")\n",
    "\n",
    "@bot.message_handler(commands=['eta'])\n",
    "def send_eta(message):\n",
    "    try:\n",
    "        vessel_voyage = ' '.join(message.text.split()[1:]).strip()\n",
    "        if vessel_voyage:\n",
    "            eta_info = get_eta(vessel_voyage)\n",
    "            messages = [\n",
    "                {\"role\": \"system\", \"content\": \"You are a Vessel planner, who provides current ETA of vessels and port Cut-off time for vessels.The format is YYYY-MM-DD HH:MM. Don't add apologues, additional information and recommendations\"},\n",
    "                {\"role\": \"user\", \"content\": f\"What are the ETA and Cut-off for vessel(s): {vessel_voyage}?\"},\n",
    "                {\"role\": \"system\", \"content\": f\"Here be the latest cargo schedule:\\n{eta_info}\"},\n",
    "            ]\n",
    "\n",
    "            response = text_generator(\n",
    "                messages,\n",
    "                max_new_tokens=128,\n",
    "                eos_token_id=text_generator.tokenizer.eos_token_id,\n",
    "                do_sample=True,\n",
    "                temperature=0.2,\n",
    "                top_p=0.2,\n",
    "            )[0][\"generated_text\"]\n",
    "\n",
    "            # Extract the relevant part of the generated text\n",
    "            if 'content' in response[-1]:\n",
    "                bot.reply_to(message, response[-1]['content'])\n",
    "            else:\n",
    "                bot.reply_to(message, \"Arrr, I couldn't generate a proper response!\")\n",
    "\n",
    "        else:\n",
    "            bot.reply_to(message, \"Please provide a vessel name. Usage: /eta <vessel_name>\")\n",
    "    except Exception as e:\n",
    "        bot.reply_to(message, f\"An error occurred: {str(e)}\")\n",
    "\n",
    "@bot.message_handler(func=lambda message: True)\n",
    "def echo_all(message):\n",
    "    bot.reply_to(message, message.text)\n",
    "\n",
    "if __name__ == '__main__':\n",
    "    bot.polling()"
   ]
  }
 ],
 "metadata": {
  "kernelspec": {
   "display_name": "Python 3",
   "language": "python",
   "name": "python3"
  },
  "language_info": {
   "codemirror_mode": {
    "name": "ipython",
    "version": 3
   },
   "file_extension": ".py",
   "mimetype": "text/x-python",
   "name": "python",
   "nbconvert_exporter": "python",
   "pygments_lexer": "ipython3",
   "version": "3.10.12"
  }
 },
 "nbformat": 4,
 "nbformat_minor": 2
}
