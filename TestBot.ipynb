{
 "cells": [
  {
   "cell_type": "code",
   "execution_count": null,
   "metadata": {},
   "outputs": [],
   "source": [
    "import telebot\n",
    "import pandas as pd\n",
    "\n",
    "# Replace 'YOUR_BOT_API_TOKEN' with the token you received from the BotFather\n",
    "API_TOKEN = 'YOUR_BOT_API_TOKEN'\n",
    "\n",
    "bot = telebot.TeleBot(API_TOKEN)\n",
    "\n",
    "# Load the CSV file\n",
    "file_path = 'Tauranga Container Terminal Cargo Schedule.csv'\n",
    "cargo_schedule_df = pd.read_csv(file_path)\n",
    "\n",
    "@bot.message_handler(commands=['start'])\n",
    "def send_welcome(message):\n",
    "    bot.reply_to(message, \"Welcome! How can I assist you today? Use /eta <vessel_name> to get the ETA for a vessel.\")\n",
    "\n",
    "@bot.message_handler(commands=['eta'])\n",
    "def send_eta(message):\n",
    "    try:\n",
    "        vessel_name = ' '.join(message.text.split()[1:]).strip()\n",
    "        if vessel_name:\n",
    "            # Find the row corresponding to the vessel name\n",
    "            vessel_row = cargo_schedule_df[cargo_schedule_df['Vessel'].str.contains(vessel_name, case=False, na=False)]\n",
    "            if not vessel_row.empty:\n",
    "                eta = vessel_row.iloc[0]['Current ETA']\n",
    "                bot.reply_to(message, f\"The ETA for {vessel_name} is {eta}.\")\n",
    "            else:\n",
    "                bot.reply_to(message, f\"Vessel {vessel_name} not found.\")\n",
    "        else:\n",
    "            bot.reply_to(message, \"Please provide a vessel name. Usage: /eta <vessel_name>\")\n",
    "    except Exception as e:\n",
    "        bot.reply_to(message, f\"An error occurred: {str(e)}\")\n",
    "\n",
    "@bot.message_handler(func=lambda message: True)\n",
    "def echo_all(message):\n",
    "    bot.reply_to(message, message.text)\n",
    "\n",
    "if __name__ == '__main__':\n",
    "    bot.polling()"
   ]
  }
 ],
 "metadata": {
  "kernelspec": {
   "display_name": "Python 3",
   "language": "python",
   "name": "python3"
  },
  "language_info": {
   "codemirror_mode": {
    "name": "ipython",
    "version": 3
   },
   "file_extension": ".py",
   "mimetype": "text/x-python",
   "name": "python",
   "nbconvert_exporter": "python",
   "pygments_lexer": "ipython3",
   "version": "3.10.12"
  }
 },
 "nbformat": 4,
 "nbformat_minor": 2
}
